{
 "cells": [
  {
   "cell_type": "markdown",
   "id": "2f338de0-092a-492d-8aed-489c4cc74925",
   "metadata": {},
   "source": [
    "В данном проекте я провожу анализ поведения пользователей мобильного приложения для бронирования отелей/гостиниц. В рамках проекта:\n",
    "- созданы синтетические датасеты с информацией о пользователях, их сессиях в приложении, платежах, флоу экранов внутри сессий\n",
    "- проведен когортный анализ и винтажный анализ rolling retention (7d и 30d) \n",
    "- построена воронка конверсий из различных экранов приложения"
   ]
  },
  {
   "cell_type": "markdown",
   "id": "7fdcaf45-fc5c-4727-8716-1342bba2daaa",
   "metadata": {},
   "source": [
    "### 1. Установка соедиения с БД и создание таблиц"
   ]
  },
  {
   "cell_type": "markdown",
   "id": "aba182ff-3564-43c3-93c8-f8f761267581",
   "metadata": {},
   "source": [
    "Создаем БД с сущностями users, sessions, events и payments"
   ]
  },
  {
   "cell_type": "code",
   "execution_count": 76,
   "id": "ed16f08b-c351-4fa7-bb85-1c824cffd0e1",
   "metadata": {},
   "outputs": [],
   "source": [
    "import sqlite3\n",
    "conn = sqlite3.connect('app.db')"
   ]
  },
  {
   "cell_type": "code",
   "execution_count": 77,
   "id": "7e07ec90-23c3-4a04-a3d7-2d7b1c7681cc",
   "metadata": {},
   "outputs": [],
   "source": [
    "cursor = conn.cursor()"
   ]
  },
  {
   "cell_type": "code",
   "execution_count": 78,
   "id": "b55bce4b-bb37-44b3-bc2a-0502dea11767",
   "metadata": {},
   "outputs": [
    {
     "data": {
      "text/plain": [
       "<sqlite3.Cursor at 0x258c70cbbc0>"
      ]
     },
     "execution_count": 78,
     "metadata": {},
     "output_type": "execute_result"
    }
   ],
   "source": [
    "cursor.execute(\"\"\"\n",
    "        CREATE TABLE IF NOT EXISTS users(\n",
    "        user_id INTEGER PRIMARY KEY,\n",
    "        aq_channel TEXT NOT NULL,\n",
    "        first_activity_date DATE NOT NULL)\"\"\")"
   ]
  },
  {
   "cell_type": "markdown",
   "id": "e5a611a2-d1bb-496f-9bc7-e7f2798dbce1",
   "metadata": {},
   "source": [
    "users хранит канал привлечения и дату первой покупки "
   ]
  },
  {
   "cell_type": "code",
   "execution_count": 80,
   "id": "077d7381-ffe0-44e9-8620-efcbec8176b8",
   "metadata": {},
   "outputs": [
    {
     "data": {
      "text/plain": [
       "<sqlite3.Cursor at 0x258c70cbbc0>"
      ]
     },
     "execution_count": 80,
     "metadata": {},
     "output_type": "execute_result"
    }
   ],
   "source": [
    "cursor.execute(\"\"\"\n",
    "        CREATE TABLE IF NOT EXISTS sessions(\n",
    "        session_id BIGINT PRIMARY KEY,\n",
    "        user_id NOT NULL,\n",
    "        session_start TIMESTAMP NOT NULL,\n",
    "        FOREIGN KEY (user_id) REFERENCES users (user_id))\"\"\")"
   ]
  },
  {
   "cell_type": "markdown",
   "id": "34808288-d712-4669-804c-30458f0c5d87",
   "metadata": {},
   "source": [
    "sessions хранит все сессии в привязке к юзеру и время старта сессии"
   ]
  },
  {
   "cell_type": "code",
   "execution_count": 82,
   "id": "dc3c2a94-79cc-4aca-af7a-49fc7fef4e1a",
   "metadata": {},
   "outputs": [
    {
     "data": {
      "text/plain": [
       "<sqlite3.Cursor at 0x258c70cbbc0>"
      ]
     },
     "execution_count": 82,
     "metadata": {},
     "output_type": "execute_result"
    }
   ],
   "source": [
    "cursor.execute(\"\"\"\n",
    "        CREATE TABLE IF NOT EXISTS events(\n",
    "        event_id BIGINT PRIMARY KEY,\n",
    "        session_id BIGINT NOT NULL,\n",
    "        event_type TEXT NOT NULL,\n",
    "        FOREIGN KEY (session_id) REFERENCES sessions (session_id))\"\"\")"
   ]
  },
  {
   "cell_type": "markdown",
   "id": "5221ca21-435e-4992-8ade-6e2040630f9d",
   "metadata": {},
   "source": [
    "events хранит события внутри каждой сессии (в нашем случае типом события будет переход юзера на тот или иной экран мобильного приложения)"
   ]
  },
  {
   "cell_type": "code",
   "execution_count": 84,
   "id": "bb9ee45b-c976-4a7b-98c5-d7a22fb89f0a",
   "metadata": {},
   "outputs": [
    {
     "data": {
      "text/plain": [
       "<sqlite3.Cursor at 0x258c70cbbc0>"
      ]
     },
     "execution_count": 84,
     "metadata": {},
     "output_type": "execute_result"
    }
   ],
   "source": [
    "cursor.execute(\"\"\"\n",
    "        CREATE TABLE IF NOT EXISTS payments(\n",
    "        pay_id BIGINT PRIMARY KEY,\n",
    "        user_id INTEGER NOT NULL,\n",
    "        pay_date DATE NOT NULL,\n",
    "        pay_amount REAL NOT NULL,\n",
    "        FOREIGN KEY (user_id) REFERENCES users (user_id))\"\"\")"
   ]
  },
  {
   "cell_type": "markdown",
   "id": "dede61dc-1a86-4f1a-b2f8-282905c5d4b9",
   "metadata": {},
   "source": [
    "payments хранит платежи - их юзера, дату платежа (покупки), размер платежа (в у.е.) "
   ]
  },
  {
   "cell_type": "markdown",
   "id": "b7be8266-08c2-45f2-8101-3888bcb3af35",
   "metadata": {},
   "source": [
    "### 2. Генерация и загрузка синтетических данных"
   ]
  },
  {
   "cell_type": "code",
   "execution_count": 87,
   "id": "49e60c92-4dfe-4eaf-8c72-3b2ee8848414",
   "metadata": {},
   "outputs": [],
   "source": [
    "from faker import Faker #Faker - класс, создающий генератор\n",
    "import numpy as np\n",
    "import pandas as pd\n",
    "import datetime\n",
    "fake = Faker() #fake - экземпляр генератора. у него есть методы для генерации данных\n",
    "#(типа fake.name(), fake.street() и т.д.)"
   ]
  },
  {
   "cell_type": "code",
   "execution_count": 88,
   "id": "4cc257e3-2681-407c-bfc6-5b81741937c3",
   "metadata": {},
   "outputs": [],
   "source": [
    "#начальные условия. 12000 уникальных юзеров и рассматриваемый период - 2024 год\n",
    "users_num = 12000\n",
    "START_DATE = datetime.datetime(2024,1,1)\n",
    "END_DATE = datetime.datetime(2024,12,31)"
   ]
  },
  {
   "cell_type": "code",
   "execution_count": 89,
   "id": "a3c2c40c-a8ab-45b0-8582-a06b938c9841",
   "metadata": {},
   "outputs": [],
   "source": [
    "def generate_users(n):\n",
    "    channels = ['organic', 'vk', 'telegram', 'yandex_ads', 'tiktok'] #каналы привлечения\n",
    "    users = []\n",
    "    for id in range(n):\n",
    "        users.append({\n",
    "            'user_id': id,\n",
    "            'acquisition_channel': np.random.choice(channels, p=[0.1, 0.2, 0.25, 0.15, 0.3]),\n",
    "            'registration_date': fake.date_between(START_DATE, END_DATE)\n",
    "        })\n",
    "    return pd.DataFrame(users)"
   ]
  },
  {
   "cell_type": "markdown",
   "id": "180a05d9-56ee-44ae-b156-3e0442e7d228",
   "metadata": {},
   "source": [
    "Генерируем для каждого пользователя один из каналов привлечения и дату регистрации (первого взаимодействия с приложением)"
   ]
  },
  {
   "cell_type": "code",
   "execution_count": 91,
   "id": "7e73596c-9fdc-4ac6-8586-3cdebe998116",
   "metadata": {},
   "outputs": [],
   "source": [
    "def generate_sessions(users_df, sessions_per_user=5):\n",
    "    sessions = []\n",
    "    session_counter = 0\n",
    "    for ind, user in users_df.iterrows(): \n",
    "        sessions.append({\n",
    "                'session_id':session_counter,\n",
    "                'user_id': user['user_id'],\n",
    "                'session_start': fake.date_time_between(\n",
    "                    start_date=user['registration_date'], \n",
    "                    end_date = user['registration_date'] + datetime.timedelta(days=1) \n",
    "                )})\n",
    "        session_counter += 1\n",
    "        #моделируем кол-во сессий на пользователя\n",
    "        if user['acquisition_channel'] == 'organic':\n",
    "            sessions_num = max(1, int(np.random.poisson(sessions_per_user)))\n",
    "        else:\n",
    "            sessions_num = max(1, int(np.random.exponential(sessions_per_user)))\n",
    "        for i in range(sessions_num):\n",
    "            sessions.append({\n",
    "                'session_id':session_counter,\n",
    "                'user_id': user['user_id'],\n",
    "                'session_start': fake.date_time_between(\n",
    "                    start_date=user['registration_date'], \n",
    "                    end_date=END_DATE\n",
    "                )})\n",
    "            session_counter += 1\n",
    "    return pd.DataFrame(sessions)"
   ]
  },
  {
   "cell_type": "markdown",
   "id": "3a9bc6b9-1368-4a38-bf5d-72cd84c8740c",
   "metadata": {},
   "source": [
    "Преполагаем, что кол-во сессий на пользователя имеет пуассоновское (если канал привлечение - органика) и экспоненциальное (во всех остальных случаях) распределение со средним, равным sessions_per_user = 5 "
   ]
  },
  {
   "cell_type": "code",
   "execution_count": 93,
   "id": "a915b004-8935-4bc8-b73d-700bc38ffb57",
   "metadata": {},
   "outputs": [],
   "source": [
    "def generate_events(sessions_df):\n",
    "    \n",
    "    screen_types = ['main','cart','search','product','order_registration','payment','success'] #типы экранов в маркетплейсе\n",
    "    events = []\n",
    "\n",
    "    next_screen_options = {\n",
    "            'main': ['search', 'product','cart'],\n",
    "            'search': ['product', 'main'],\n",
    "            'product': ['cart', 'search', 'main'],\n",
    "            'cart': ['main', 'product','order_registration'],\n",
    "            'order_registration':['payment','cart'],\n",
    "            'payment': ['success','order_registration'],\n",
    "            'success': ['main']}  #словарь из возможных следующих экранов для текущего экрана\n",
    "    \n",
    "    event_counter = 0\n",
    "    for ind, session in sessions_df.iterrows():\n",
    "        #кол-во экранов внутри сессии распр. нормально, при этом больше 2 и меньше 10\n",
    "        screens_num = int(max(2, min(10, np.random.normal(5,2)))) \n",
    "        screen_flow = ['main'] #первый экран - главная\n",
    "        events.append({\n",
    "        'event_id':event_counter,\n",
    "        'session_id':session['session_id'],\n",
    "        'event_type':'main'})  \n",
    "        event_counter += 1\n",
    "        for i in range(1, screens_num):\n",
    "            previous_screen = screen_flow[i-1]\n",
    "            current_screen = np.random.choice(list(next_screen_options.get(previous_screen)))\n",
    "            screen_flow.append(current_screen)\n",
    "            events.append({\n",
    "                'event_id':event_counter,\n",
    "                'session_id':session['session_id'],\n",
    "                'event_type':current_screen})  \n",
    "            event_counter += 1\n",
    "\n",
    "    return pd.DataFrame(events)"
   ]
  },
  {
   "cell_type": "code",
   "execution_count": 71,
   "id": "58722c78-b06c-4e77-ade7-296a4e634867",
   "metadata": {},
   "outputs": [],
   "source": [
    "cursor.execute(\"\"\"DROP TABLE users\"\"\")\n",
    "cursor.execute(\"\"\"DROP TABLE sessions\"\"\")\n",
    "cursor.execute(\"\"\"DROP TABLE events\"\"\")\n",
    "cursor.execute(\"\"\"DROP TABLE payments\"\"\")\n",
    "cursor.execute(\"\"\"DROP TABLE cohort_retention\"\"\")\n",
    "conn.commit()"
   ]
  },
  {
   "cell_type": "markdown",
   "id": "28ab8da7-88d0-4db4-aa3e-68c77147ec07",
   "metadata": {},
   "source": [
    "Генерируем события (флоу переходов по разным экранам приложения) внутри каждой сессии."
   ]
  },
  {
   "cell_type": "code",
   "execution_count": 105,
   "id": "19d81230-b87f-4c1c-8649-5e5557568ab2",
   "metadata": {},
   "outputs": [],
   "source": [
    "def generate_payments(users_df, avg_purchase_num = 12):\n",
    "    payments = []\n",
    "    payments_counter = 0\n",
    "    for ind, user in users_df.iterrows():\n",
    "        payments_num = np.random.poisson(avg_purchase_num) #кол-во покупок на юзера\n",
    "        if payments_num > 0:\n",
    "            for i in range(payments_num):\n",
    "                payments.append({\n",
    "                    'pay_id':payments_counter,\n",
    "                    'user_id':user['user_id'],\n",
    "                    'pay_date':fake.date_between(\n",
    "                        start_date=user['registration_date'], \n",
    "                        end_date=END_DATE),\n",
    "                    'pay_amount':round(np.random.lognormal(3,1),2)})\n",
    "                payments_counter += 1\n",
    "    return pd.DataFrame(payments)    "
   ]
  },
  {
   "cell_type": "markdown",
   "id": "1111655f-3917-42ac-990f-1842e0350d3a",
   "metadata": {},
   "source": [
    "Генерируем платежи (покупки) каждого пользователя. "
   ]
  },
  {
   "cell_type": "code",
   "execution_count": 107,
   "id": "e21496d9-1283-4eda-92f6-69174a13bbe4",
   "metadata": {},
   "outputs": [],
   "source": [
    "#создаем датасеты\n",
    "users_df = generate_users(users_num)\n",
    "sessions_df = generate_sessions(users_df)\n",
    "events_df = generate_events(sessions_df)\n",
    "payments_df = generate_payments(users_df)"
   ]
  },
  {
   "cell_type": "code",
   "execution_count": 108,
   "id": "8b565b22-59e4-41ef-b45b-9c06fc86dd14",
   "metadata": {},
   "outputs": [
    {
     "data": {
      "text/plain": [
       "144203"
      ]
     },
     "execution_count": 108,
     "metadata": {},
     "output_type": "execute_result"
    }
   ],
   "source": [
    "#переносим датасеты в таблицы с помощью созданного sqlite соединения conn\n",
    "users_df.to_sql('users', conn, if_exists = 'replace', index = False)\n",
    "sessions_df.to_sql('sessions', conn, if_exists = 'replace', index = False)\n",
    "events_df.to_sql('events', conn, if_exists = 'replace', index = False)\n",
    "payments_df.to_sql('payments', conn, if_exists = 'replace', index = False)"
   ]
  },
  {
   "cell_type": "code",
   "execution_count": 109,
   "id": "ff0e7d1b-fa46-4bc9-984f-6c6b5952c6dd",
   "metadata": {},
   "outputs": [],
   "source": [
    "conn.commit()"
   ]
  },
  {
   "cell_type": "markdown",
   "id": "9b959012-dca3-4d63-a514-2ac4f913ce4e",
   "metadata": {},
   "source": [
    "### 3. Анализ Retention по когортам (по каналу привлечения)"
   ]
  },
  {
   "cell_type": "markdown",
   "id": "85c58cd2-d89a-4908-8296-2b934349bbd1",
   "metadata": {},
   "source": [
    "Будем делить пользователей на когорты по каналу привлечения и месяцу, когда они зарегистрировались (привлеченные пользователи = зарегистрировавшиеся пользователи).\n",
    "Когорта определяется каналом привлечения и месяцем регистрации.\n",
    "Учитывая специфику нашего сервиса (люди пользуются нашим приложением для бронировая путешествий несколько раз в год), будем рассчитывать не классический retention (ровно на 7-й и 30-й день), а rolling retention, где в числителе - кол-во юзеров, у которых последняя активность в приложении была после 7 (30) дней после регистрации. Так мы анализируем сохранение интереса пользователей к нашему приложению."
   ]
  },
  {
   "cell_type": "code",
   "execution_count": 113,
   "id": "3f6a4243-7f1f-42af-a764-dd009ab8cb71",
   "metadata": {},
   "outputs": [
    {
     "data": {
      "text/plain": [
       "<sqlite3.Cursor at 0x258c70cbbc0>"
      ]
     },
     "execution_count": 113,
     "metadata": {},
     "output_type": "execute_result"
    }
   ],
   "source": [
    "#создаем таблицу с retention\n",
    "cursor.execute(\"\"\"\n",
    "CREATE TABLE IF NOT EXISTS cohort_retention (\n",
    "    aq_channel TEXT,\n",
    "    cohort_month TEXT,\n",
    "    cohort_size INTEGER,\n",
    "    retention_7_day REAL,\n",
    "    retention_30_day REAL\n",
    "); \"\"\")"
   ]
  },
  {
   "cell_type": "code",
   "execution_count": null,
   "id": "b58d4635-d0e3-4cb6-80a8-1e5998715b7a",
   "metadata": {
    "scrolled": true
   },
   "outputs": [],
   "source": [
    "#проверяем, что данные попали в БД\n",
    "cursor.execute(\"\"\"SELECT * FROM users\"\"\")\n",
    "rows = cursor.fetchall()\n",
    "print(rows) "
   ]
  },
  {
   "cell_type": "code",
   "execution_count": 117,
   "id": "2c4fd7db-7c4d-428b-8877-5525cf667e3b",
   "metadata": {},
   "outputs": [
    {
     "data": {
      "text/plain": [
       "<sqlite3.Cursor at 0x258c70cbbc0>"
      ]
     },
     "execution_count": 117,
     "metadata": {},
     "output_type": "execute_result"
    }
   ],
   "source": [
    "#рассчитываем rolling retention (7d и 30d) по когортам. если когорта пустая, то NULL, вставляем данные в таблицу с retention\n",
    "cursor.execute(\"\"\"\n",
    "        INSERT INTO cohort_retention\n",
    "        WITH \n",
    "        cohorts AS (\n",
    "           SELECT \n",
    "               user_id, \n",
    "               acquisition_channel, \n",
    "               strftime('%Y-%m', registration_date) AS cohort_month\n",
    "           FROM users\n",
    "        ),\n",
    "        user_activities AS (\n",
    "           SELECT\n",
    "               c.cohort_month,\n",
    "               u.acquisition_channel,\n",
    "               u.user_id,\n",
    "               CAST((julianday(date(s.session_start)) - julianday(date(u.registration_date))) AS INTEGER) AS days_passed_after_reg\n",
    "           FROM sessions s\n",
    "           JOIN users u ON u.user_id = s.user_id\n",
    "           JOIN cohorts c ON c.user_id = u.user_id\n",
    "        )\n",
    "        SELECT \n",
    "            acquisition_channel,\n",
    "            cohort_month,\n",
    "            COUNT(DISTINCT CASE WHEN days_passed_after_reg = 0 THEN user_id END) AS cohort_size,\n",
    "            ROUND(\n",
    "                COUNT(DISTINCT CASE WHEN days_passed_after_reg >= 7 THEN user_id END) * 100.0 / \n",
    "                NULLIF(COUNT(DISTINCT CASE WHEN days_passed_after_reg = 0 THEN user_id END), 0), 1) \n",
    "                AS day_7_rol_retention,\n",
    "            ROUND(\n",
    "                COUNT(DISTINCT CASE WHEN days_passed_after_reg >= 30 THEN user_id END) * 100.0 / \n",
    "                NULLIF(COUNT(DISTINCT CASE WHEN days_passed_after_reg = 0 THEN user_id END), 0),1) \n",
    "                AS day_30_rol_retention\n",
    "        FROM user_activities\n",
    "        GROUP BY acquisition_channel, cohort_month\n",
    "        ORDER BY acquisition_channel, cohort_month;\n",
    "\"\"\")"
   ]
  },
  {
   "cell_type": "code",
   "execution_count": 119,
   "id": "342a70a0-54f8-47ed-b6b9-d70def148484",
   "metadata": {},
   "outputs": [],
   "source": [
    "conn.commit() #изменили БД"
   ]
  },
  {
   "cell_type": "code",
   "execution_count": 121,
   "id": "8184c4c6-4494-4176-bb48-a796e9cdb2b3",
   "metadata": {
    "scrolled": true
   },
   "outputs": [
    {
     "name": "stdout",
     "output_type": "stream",
     "text": [
      "('organic', '2024-01', 93, 100.0, 100.0)\n",
      "('organic', '2024-02', 91, 100.0, 100.0)\n",
      "('organic', '2024-03', 84, 100.0, 100.0)\n",
      "('organic', '2024-04', 101, 100.0, 100.0)\n",
      "('organic', '2024-05', 110, 100.0, 100.0)\n",
      "('organic', '2024-06', 92, 100.0, 100.0)\n",
      "('organic', '2024-07', 98, 100.0, 100.0)\n",
      "('organic', '2024-08', 108, 98.1, 96.3)\n",
      "('organic', '2024-09', 122, 100.0, 100.0)\n",
      "('organic', '2024-10', 98, 100.0, 98.0)\n",
      "('organic', '2024-11', 102, 99.0, 74.5)\n",
      "('organic', '2024-12', 103, 76.7, 0.0)\n",
      "('telegram', '2024-01', 241, 99.6, 97.9)\n",
      "('telegram', '2024-02', 230, 99.1, 98.3)\n",
      "('telegram', '2024-03', 263, 99.6, 96.6)\n",
      "('telegram', '2024-04', 228, 99.1, 96.9)\n",
      "('telegram', '2024-05', 291, 99.3, 95.2)\n",
      "('telegram', '2024-06', 235, 99.6, 97.4)\n",
      "('telegram', '2024-07', 270, 99.3, 94.1)\n",
      "('telegram', '2024-08', 248, 98.8, 92.7)\n",
      "('telegram', '2024-09', 226, 97.8, 88.5)\n",
      "('telegram', '2024-10', 260, 98.1, 86.9)\n",
      "('telegram', '2024-11', 220, 89.5, 59.1)\n",
      "('telegram', '2024-12', 243, 63.4, 0.0)\n",
      "('tiktok', '2024-01', 296, 99.7, 96.3)\n",
      "('tiktok', '2024-02', 287, 98.6, 96.5)\n",
      "('tiktok', '2024-03', 316, 99.4, 95.9)\n",
      "('tiktok', '2024-04', 276, 98.9, 93.1)\n",
      "('tiktok', '2024-05', 293, 100.0, 95.6)\n",
      "('tiktok', '2024-06', 305, 98.7, 95.1)\n",
      "('tiktok', '2024-07', 294, 97.3, 92.5)\n",
      "('tiktok', '2024-08', 285, 98.6, 90.2)\n",
      "('tiktok', '2024-09', 313, 97.8, 92.3)\n",
      "('tiktok', '2024-10', 326, 96.9, 80.7)\n",
      "('tiktok', '2024-11', 311, 94.5, 60.1)\n",
      "('tiktok', '2024-12', 288, 59.0, 0.0)\n",
      "('vk', '2024-01', 203, 99.5, 97.5)\n",
      "('vk', '2024-02', 169, 100.0, 98.2)\n",
      "('vk', '2024-03', 191, 99.0, 95.8)\n",
      "('vk', '2024-04', 193, 98.4, 95.9)\n",
      "('vk', '2024-05', 180, 98.9, 96.1)\n",
      "('vk', '2024-06', 203, 99.5, 97.0)\n",
      "('vk', '2024-07', 209, 97.1, 93.8)\n",
      "('vk', '2024-08', 210, 98.1, 92.4)\n",
      "('vk', '2024-09', 219, 97.3, 86.3)\n",
      "('vk', '2024-10', 214, 95.8, 84.1)\n",
      "('vk', '2024-11', 208, 94.7, 63.9)\n",
      "('vk', '2024-12', 196, 65.3, 0.0)\n",
      "('yandex_ads', '2024-01', 176, 99.4, 96.6)\n",
      "('yandex_ads', '2024-02', 142, 100.0, 96.5)\n",
      "('yandex_ads', '2024-03', 156, 99.4, 96.8)\n",
      "('yandex_ads', '2024-04', 149, 98.7, 96.6)\n",
      "('yandex_ads', '2024-05', 166, 99.4, 97.6)\n",
      "('yandex_ads', '2024-06', 151, 98.7, 93.4)\n",
      "('yandex_ads', '2024-07', 135, 97.0, 94.1)\n",
      "('yandex_ads', '2024-08', 166, 97.0, 92.2)\n",
      "('yandex_ads', '2024-09', 152, 98.0, 92.1)\n",
      "('yandex_ads', '2024-10', 157, 96.8, 84.1)\n",
      "('yandex_ads', '2024-11', 141, 95.7, 61.7)\n",
      "('yandex_ads', '2024-12', 167, 59.9, 0.0)\n"
     ]
    }
   ],
   "source": [
    "#проверяем, что данные дошли\n",
    "cursor.execute(\"\"\"SELECT * FROM cohort_retention\"\"\")\n",
    "rows = cursor.fetchall()\n",
    "for row in rows:\n",
    "    print(row)"
   ]
  },
  {
   "cell_type": "code",
   "execution_count": 123,
   "id": "33a7aa87-f90b-4d74-ba59-db1a943d09d7",
   "metadata": {},
   "outputs": [],
   "source": [
    "retention_df = pd.read_sql(\"SELECT * FROM cohort_retention\",conn)"
   ]
  },
  {
   "cell_type": "code",
   "execution_count": 125,
   "id": "54176d1f-ae60-4ca7-9c41-26e3566b8ca3",
   "metadata": {
    "scrolled": true
   },
   "outputs": [
    {
     "data": {
      "text/html": [
       "<div>\n",
       "<style scoped>\n",
       "    .dataframe tbody tr th:only-of-type {\n",
       "        vertical-align: middle;\n",
       "    }\n",
       "\n",
       "    .dataframe tbody tr th {\n",
       "        vertical-align: top;\n",
       "    }\n",
       "\n",
       "    .dataframe thead th {\n",
       "        text-align: right;\n",
       "    }\n",
       "</style>\n",
       "<table border=\"1\" class=\"dataframe\">\n",
       "  <thead>\n",
       "    <tr style=\"text-align: right;\">\n",
       "      <th></th>\n",
       "      <th>aq_channel</th>\n",
       "      <th>cohort_month</th>\n",
       "      <th>cohort_size</th>\n",
       "      <th>retention_7_day</th>\n",
       "      <th>retention_30_day</th>\n",
       "    </tr>\n",
       "  </thead>\n",
       "  <tbody>\n",
       "    <tr>\n",
       "      <th>0</th>\n",
       "      <td>organic</td>\n",
       "      <td>2024-01</td>\n",
       "      <td>93</td>\n",
       "      <td>100.0</td>\n",
       "      <td>100.0</td>\n",
       "    </tr>\n",
       "    <tr>\n",
       "      <th>1</th>\n",
       "      <td>organic</td>\n",
       "      <td>2024-02</td>\n",
       "      <td>91</td>\n",
       "      <td>100.0</td>\n",
       "      <td>100.0</td>\n",
       "    </tr>\n",
       "    <tr>\n",
       "      <th>2</th>\n",
       "      <td>organic</td>\n",
       "      <td>2024-03</td>\n",
       "      <td>84</td>\n",
       "      <td>100.0</td>\n",
       "      <td>100.0</td>\n",
       "    </tr>\n",
       "    <tr>\n",
       "      <th>3</th>\n",
       "      <td>organic</td>\n",
       "      <td>2024-04</td>\n",
       "      <td>101</td>\n",
       "      <td>100.0</td>\n",
       "      <td>100.0</td>\n",
       "    </tr>\n",
       "    <tr>\n",
       "      <th>4</th>\n",
       "      <td>organic</td>\n",
       "      <td>2024-05</td>\n",
       "      <td>110</td>\n",
       "      <td>100.0</td>\n",
       "      <td>100.0</td>\n",
       "    </tr>\n",
       "    <tr>\n",
       "      <th>5</th>\n",
       "      <td>organic</td>\n",
       "      <td>2024-06</td>\n",
       "      <td>92</td>\n",
       "      <td>100.0</td>\n",
       "      <td>100.0</td>\n",
       "    </tr>\n",
       "    <tr>\n",
       "      <th>6</th>\n",
       "      <td>organic</td>\n",
       "      <td>2024-07</td>\n",
       "      <td>98</td>\n",
       "      <td>100.0</td>\n",
       "      <td>100.0</td>\n",
       "    </tr>\n",
       "    <tr>\n",
       "      <th>7</th>\n",
       "      <td>organic</td>\n",
       "      <td>2024-08</td>\n",
       "      <td>108</td>\n",
       "      <td>98.1</td>\n",
       "      <td>96.3</td>\n",
       "    </tr>\n",
       "    <tr>\n",
       "      <th>8</th>\n",
       "      <td>organic</td>\n",
       "      <td>2024-09</td>\n",
       "      <td>122</td>\n",
       "      <td>100.0</td>\n",
       "      <td>100.0</td>\n",
       "    </tr>\n",
       "    <tr>\n",
       "      <th>9</th>\n",
       "      <td>organic</td>\n",
       "      <td>2024-10</td>\n",
       "      <td>98</td>\n",
       "      <td>100.0</td>\n",
       "      <td>98.0</td>\n",
       "    </tr>\n",
       "    <tr>\n",
       "      <th>10</th>\n",
       "      <td>organic</td>\n",
       "      <td>2024-11</td>\n",
       "      <td>102</td>\n",
       "      <td>99.0</td>\n",
       "      <td>74.5</td>\n",
       "    </tr>\n",
       "    <tr>\n",
       "      <th>11</th>\n",
       "      <td>organic</td>\n",
       "      <td>2024-12</td>\n",
       "      <td>103</td>\n",
       "      <td>76.7</td>\n",
       "      <td>0.0</td>\n",
       "    </tr>\n",
       "    <tr>\n",
       "      <th>12</th>\n",
       "      <td>telegram</td>\n",
       "      <td>2024-01</td>\n",
       "      <td>241</td>\n",
       "      <td>99.6</td>\n",
       "      <td>97.9</td>\n",
       "    </tr>\n",
       "    <tr>\n",
       "      <th>13</th>\n",
       "      <td>telegram</td>\n",
       "      <td>2024-02</td>\n",
       "      <td>230</td>\n",
       "      <td>99.1</td>\n",
       "      <td>98.3</td>\n",
       "    </tr>\n",
       "    <tr>\n",
       "      <th>14</th>\n",
       "      <td>telegram</td>\n",
       "      <td>2024-03</td>\n",
       "      <td>263</td>\n",
       "      <td>99.6</td>\n",
       "      <td>96.6</td>\n",
       "    </tr>\n",
       "    <tr>\n",
       "      <th>15</th>\n",
       "      <td>telegram</td>\n",
       "      <td>2024-04</td>\n",
       "      <td>228</td>\n",
       "      <td>99.1</td>\n",
       "      <td>96.9</td>\n",
       "    </tr>\n",
       "    <tr>\n",
       "      <th>16</th>\n",
       "      <td>telegram</td>\n",
       "      <td>2024-05</td>\n",
       "      <td>291</td>\n",
       "      <td>99.3</td>\n",
       "      <td>95.2</td>\n",
       "    </tr>\n",
       "    <tr>\n",
       "      <th>17</th>\n",
       "      <td>telegram</td>\n",
       "      <td>2024-06</td>\n",
       "      <td>235</td>\n",
       "      <td>99.6</td>\n",
       "      <td>97.4</td>\n",
       "    </tr>\n",
       "    <tr>\n",
       "      <th>18</th>\n",
       "      <td>telegram</td>\n",
       "      <td>2024-07</td>\n",
       "      <td>270</td>\n",
       "      <td>99.3</td>\n",
       "      <td>94.1</td>\n",
       "    </tr>\n",
       "    <tr>\n",
       "      <th>19</th>\n",
       "      <td>telegram</td>\n",
       "      <td>2024-08</td>\n",
       "      <td>248</td>\n",
       "      <td>98.8</td>\n",
       "      <td>92.7</td>\n",
       "    </tr>\n",
       "    <tr>\n",
       "      <th>20</th>\n",
       "      <td>telegram</td>\n",
       "      <td>2024-09</td>\n",
       "      <td>226</td>\n",
       "      <td>97.8</td>\n",
       "      <td>88.5</td>\n",
       "    </tr>\n",
       "    <tr>\n",
       "      <th>21</th>\n",
       "      <td>telegram</td>\n",
       "      <td>2024-10</td>\n",
       "      <td>260</td>\n",
       "      <td>98.1</td>\n",
       "      <td>86.9</td>\n",
       "    </tr>\n",
       "    <tr>\n",
       "      <th>22</th>\n",
       "      <td>telegram</td>\n",
       "      <td>2024-11</td>\n",
       "      <td>220</td>\n",
       "      <td>89.5</td>\n",
       "      <td>59.1</td>\n",
       "    </tr>\n",
       "    <tr>\n",
       "      <th>23</th>\n",
       "      <td>telegram</td>\n",
       "      <td>2024-12</td>\n",
       "      <td>243</td>\n",
       "      <td>63.4</td>\n",
       "      <td>0.0</td>\n",
       "    </tr>\n",
       "    <tr>\n",
       "      <th>24</th>\n",
       "      <td>tiktok</td>\n",
       "      <td>2024-01</td>\n",
       "      <td>296</td>\n",
       "      <td>99.7</td>\n",
       "      <td>96.3</td>\n",
       "    </tr>\n",
       "    <tr>\n",
       "      <th>25</th>\n",
       "      <td>tiktok</td>\n",
       "      <td>2024-02</td>\n",
       "      <td>287</td>\n",
       "      <td>98.6</td>\n",
       "      <td>96.5</td>\n",
       "    </tr>\n",
       "    <tr>\n",
       "      <th>26</th>\n",
       "      <td>tiktok</td>\n",
       "      <td>2024-03</td>\n",
       "      <td>316</td>\n",
       "      <td>99.4</td>\n",
       "      <td>95.9</td>\n",
       "    </tr>\n",
       "    <tr>\n",
       "      <th>27</th>\n",
       "      <td>tiktok</td>\n",
       "      <td>2024-04</td>\n",
       "      <td>276</td>\n",
       "      <td>98.9</td>\n",
       "      <td>93.1</td>\n",
       "    </tr>\n",
       "    <tr>\n",
       "      <th>28</th>\n",
       "      <td>tiktok</td>\n",
       "      <td>2024-05</td>\n",
       "      <td>293</td>\n",
       "      <td>100.0</td>\n",
       "      <td>95.6</td>\n",
       "    </tr>\n",
       "    <tr>\n",
       "      <th>29</th>\n",
       "      <td>tiktok</td>\n",
       "      <td>2024-06</td>\n",
       "      <td>305</td>\n",
       "      <td>98.7</td>\n",
       "      <td>95.1</td>\n",
       "    </tr>\n",
       "    <tr>\n",
       "      <th>30</th>\n",
       "      <td>tiktok</td>\n",
       "      <td>2024-07</td>\n",
       "      <td>294</td>\n",
       "      <td>97.3</td>\n",
       "      <td>92.5</td>\n",
       "    </tr>\n",
       "    <tr>\n",
       "      <th>31</th>\n",
       "      <td>tiktok</td>\n",
       "      <td>2024-08</td>\n",
       "      <td>285</td>\n",
       "      <td>98.6</td>\n",
       "      <td>90.2</td>\n",
       "    </tr>\n",
       "    <tr>\n",
       "      <th>32</th>\n",
       "      <td>tiktok</td>\n",
       "      <td>2024-09</td>\n",
       "      <td>313</td>\n",
       "      <td>97.8</td>\n",
       "      <td>92.3</td>\n",
       "    </tr>\n",
       "    <tr>\n",
       "      <th>33</th>\n",
       "      <td>tiktok</td>\n",
       "      <td>2024-10</td>\n",
       "      <td>326</td>\n",
       "      <td>96.9</td>\n",
       "      <td>80.7</td>\n",
       "    </tr>\n",
       "    <tr>\n",
       "      <th>34</th>\n",
       "      <td>tiktok</td>\n",
       "      <td>2024-11</td>\n",
       "      <td>311</td>\n",
       "      <td>94.5</td>\n",
       "      <td>60.1</td>\n",
       "    </tr>\n",
       "    <tr>\n",
       "      <th>35</th>\n",
       "      <td>tiktok</td>\n",
       "      <td>2024-12</td>\n",
       "      <td>288</td>\n",
       "      <td>59.0</td>\n",
       "      <td>0.0</td>\n",
       "    </tr>\n",
       "    <tr>\n",
       "      <th>36</th>\n",
       "      <td>vk</td>\n",
       "      <td>2024-01</td>\n",
       "      <td>203</td>\n",
       "      <td>99.5</td>\n",
       "      <td>97.5</td>\n",
       "    </tr>\n",
       "    <tr>\n",
       "      <th>37</th>\n",
       "      <td>vk</td>\n",
       "      <td>2024-02</td>\n",
       "      <td>169</td>\n",
       "      <td>100.0</td>\n",
       "      <td>98.2</td>\n",
       "    </tr>\n",
       "    <tr>\n",
       "      <th>38</th>\n",
       "      <td>vk</td>\n",
       "      <td>2024-03</td>\n",
       "      <td>191</td>\n",
       "      <td>99.0</td>\n",
       "      <td>95.8</td>\n",
       "    </tr>\n",
       "    <tr>\n",
       "      <th>39</th>\n",
       "      <td>vk</td>\n",
       "      <td>2024-04</td>\n",
       "      <td>193</td>\n",
       "      <td>98.4</td>\n",
       "      <td>95.9</td>\n",
       "    </tr>\n",
       "    <tr>\n",
       "      <th>40</th>\n",
       "      <td>vk</td>\n",
       "      <td>2024-05</td>\n",
       "      <td>180</td>\n",
       "      <td>98.9</td>\n",
       "      <td>96.1</td>\n",
       "    </tr>\n",
       "    <tr>\n",
       "      <th>41</th>\n",
       "      <td>vk</td>\n",
       "      <td>2024-06</td>\n",
       "      <td>203</td>\n",
       "      <td>99.5</td>\n",
       "      <td>97.0</td>\n",
       "    </tr>\n",
       "    <tr>\n",
       "      <th>42</th>\n",
       "      <td>vk</td>\n",
       "      <td>2024-07</td>\n",
       "      <td>209</td>\n",
       "      <td>97.1</td>\n",
       "      <td>93.8</td>\n",
       "    </tr>\n",
       "    <tr>\n",
       "      <th>43</th>\n",
       "      <td>vk</td>\n",
       "      <td>2024-08</td>\n",
       "      <td>210</td>\n",
       "      <td>98.1</td>\n",
       "      <td>92.4</td>\n",
       "    </tr>\n",
       "    <tr>\n",
       "      <th>44</th>\n",
       "      <td>vk</td>\n",
       "      <td>2024-09</td>\n",
       "      <td>219</td>\n",
       "      <td>97.3</td>\n",
       "      <td>86.3</td>\n",
       "    </tr>\n",
       "    <tr>\n",
       "      <th>45</th>\n",
       "      <td>vk</td>\n",
       "      <td>2024-10</td>\n",
       "      <td>214</td>\n",
       "      <td>95.8</td>\n",
       "      <td>84.1</td>\n",
       "    </tr>\n",
       "    <tr>\n",
       "      <th>46</th>\n",
       "      <td>vk</td>\n",
       "      <td>2024-11</td>\n",
       "      <td>208</td>\n",
       "      <td>94.7</td>\n",
       "      <td>63.9</td>\n",
       "    </tr>\n",
       "    <tr>\n",
       "      <th>47</th>\n",
       "      <td>vk</td>\n",
       "      <td>2024-12</td>\n",
       "      <td>196</td>\n",
       "      <td>65.3</td>\n",
       "      <td>0.0</td>\n",
       "    </tr>\n",
       "    <tr>\n",
       "      <th>48</th>\n",
       "      <td>yandex_ads</td>\n",
       "      <td>2024-01</td>\n",
       "      <td>176</td>\n",
       "      <td>99.4</td>\n",
       "      <td>96.6</td>\n",
       "    </tr>\n",
       "    <tr>\n",
       "      <th>49</th>\n",
       "      <td>yandex_ads</td>\n",
       "      <td>2024-02</td>\n",
       "      <td>142</td>\n",
       "      <td>100.0</td>\n",
       "      <td>96.5</td>\n",
       "    </tr>\n",
       "    <tr>\n",
       "      <th>50</th>\n",
       "      <td>yandex_ads</td>\n",
       "      <td>2024-03</td>\n",
       "      <td>156</td>\n",
       "      <td>99.4</td>\n",
       "      <td>96.8</td>\n",
       "    </tr>\n",
       "    <tr>\n",
       "      <th>51</th>\n",
       "      <td>yandex_ads</td>\n",
       "      <td>2024-04</td>\n",
       "      <td>149</td>\n",
       "      <td>98.7</td>\n",
       "      <td>96.6</td>\n",
       "    </tr>\n",
       "    <tr>\n",
       "      <th>52</th>\n",
       "      <td>yandex_ads</td>\n",
       "      <td>2024-05</td>\n",
       "      <td>166</td>\n",
       "      <td>99.4</td>\n",
       "      <td>97.6</td>\n",
       "    </tr>\n",
       "    <tr>\n",
       "      <th>53</th>\n",
       "      <td>yandex_ads</td>\n",
       "      <td>2024-06</td>\n",
       "      <td>151</td>\n",
       "      <td>98.7</td>\n",
       "      <td>93.4</td>\n",
       "    </tr>\n",
       "    <tr>\n",
       "      <th>54</th>\n",
       "      <td>yandex_ads</td>\n",
       "      <td>2024-07</td>\n",
       "      <td>135</td>\n",
       "      <td>97.0</td>\n",
       "      <td>94.1</td>\n",
       "    </tr>\n",
       "    <tr>\n",
       "      <th>55</th>\n",
       "      <td>yandex_ads</td>\n",
       "      <td>2024-08</td>\n",
       "      <td>166</td>\n",
       "      <td>97.0</td>\n",
       "      <td>92.2</td>\n",
       "    </tr>\n",
       "    <tr>\n",
       "      <th>56</th>\n",
       "      <td>yandex_ads</td>\n",
       "      <td>2024-09</td>\n",
       "      <td>152</td>\n",
       "      <td>98.0</td>\n",
       "      <td>92.1</td>\n",
       "    </tr>\n",
       "    <tr>\n",
       "      <th>57</th>\n",
       "      <td>yandex_ads</td>\n",
       "      <td>2024-10</td>\n",
       "      <td>157</td>\n",
       "      <td>96.8</td>\n",
       "      <td>84.1</td>\n",
       "    </tr>\n",
       "    <tr>\n",
       "      <th>58</th>\n",
       "      <td>yandex_ads</td>\n",
       "      <td>2024-11</td>\n",
       "      <td>141</td>\n",
       "      <td>95.7</td>\n",
       "      <td>61.7</td>\n",
       "    </tr>\n",
       "    <tr>\n",
       "      <th>59</th>\n",
       "      <td>yandex_ads</td>\n",
       "      <td>2024-12</td>\n",
       "      <td>167</td>\n",
       "      <td>59.9</td>\n",
       "      <td>0.0</td>\n",
       "    </tr>\n",
       "  </tbody>\n",
       "</table>\n",
       "</div>"
      ],
      "text/plain": [
       "    aq_channel cohort_month  cohort_size  retention_7_day  retention_30_day\n",
       "0      organic      2024-01           93            100.0             100.0\n",
       "1      organic      2024-02           91            100.0             100.0\n",
       "2      organic      2024-03           84            100.0             100.0\n",
       "3      organic      2024-04          101            100.0             100.0\n",
       "4      organic      2024-05          110            100.0             100.0\n",
       "5      organic      2024-06           92            100.0             100.0\n",
       "6      organic      2024-07           98            100.0             100.0\n",
       "7      organic      2024-08          108             98.1              96.3\n",
       "8      organic      2024-09          122            100.0             100.0\n",
       "9      organic      2024-10           98            100.0              98.0\n",
       "10     organic      2024-11          102             99.0              74.5\n",
       "11     organic      2024-12          103             76.7               0.0\n",
       "12    telegram      2024-01          241             99.6              97.9\n",
       "13    telegram      2024-02          230             99.1              98.3\n",
       "14    telegram      2024-03          263             99.6              96.6\n",
       "15    telegram      2024-04          228             99.1              96.9\n",
       "16    telegram      2024-05          291             99.3              95.2\n",
       "17    telegram      2024-06          235             99.6              97.4\n",
       "18    telegram      2024-07          270             99.3              94.1\n",
       "19    telegram      2024-08          248             98.8              92.7\n",
       "20    telegram      2024-09          226             97.8              88.5\n",
       "21    telegram      2024-10          260             98.1              86.9\n",
       "22    telegram      2024-11          220             89.5              59.1\n",
       "23    telegram      2024-12          243             63.4               0.0\n",
       "24      tiktok      2024-01          296             99.7              96.3\n",
       "25      tiktok      2024-02          287             98.6              96.5\n",
       "26      tiktok      2024-03          316             99.4              95.9\n",
       "27      tiktok      2024-04          276             98.9              93.1\n",
       "28      tiktok      2024-05          293            100.0              95.6\n",
       "29      tiktok      2024-06          305             98.7              95.1\n",
       "30      tiktok      2024-07          294             97.3              92.5\n",
       "31      tiktok      2024-08          285             98.6              90.2\n",
       "32      tiktok      2024-09          313             97.8              92.3\n",
       "33      tiktok      2024-10          326             96.9              80.7\n",
       "34      tiktok      2024-11          311             94.5              60.1\n",
       "35      tiktok      2024-12          288             59.0               0.0\n",
       "36          vk      2024-01          203             99.5              97.5\n",
       "37          vk      2024-02          169            100.0              98.2\n",
       "38          vk      2024-03          191             99.0              95.8\n",
       "39          vk      2024-04          193             98.4              95.9\n",
       "40          vk      2024-05          180             98.9              96.1\n",
       "41          vk      2024-06          203             99.5              97.0\n",
       "42          vk      2024-07          209             97.1              93.8\n",
       "43          vk      2024-08          210             98.1              92.4\n",
       "44          vk      2024-09          219             97.3              86.3\n",
       "45          vk      2024-10          214             95.8              84.1\n",
       "46          vk      2024-11          208             94.7              63.9\n",
       "47          vk      2024-12          196             65.3               0.0\n",
       "48  yandex_ads      2024-01          176             99.4              96.6\n",
       "49  yandex_ads      2024-02          142            100.0              96.5\n",
       "50  yandex_ads      2024-03          156             99.4              96.8\n",
       "51  yandex_ads      2024-04          149             98.7              96.6\n",
       "52  yandex_ads      2024-05          166             99.4              97.6\n",
       "53  yandex_ads      2024-06          151             98.7              93.4\n",
       "54  yandex_ads      2024-07          135             97.0              94.1\n",
       "55  yandex_ads      2024-08          166             97.0              92.2\n",
       "56  yandex_ads      2024-09          152             98.0              92.1\n",
       "57  yandex_ads      2024-10          157             96.8              84.1\n",
       "58  yandex_ads      2024-11          141             95.7              61.7\n",
       "59  yandex_ads      2024-12          167             59.9               0.0"
      ]
     },
     "execution_count": 125,
     "metadata": {},
     "output_type": "execute_result"
    }
   ],
   "source": [
    "retention_df"
   ]
  },
  {
   "cell_type": "markdown",
   "id": "303c2132-106c-4852-960d-26e8c146789e",
   "metadata": {},
   "source": [
    "Высокие показатели rolling retention объясняются тем, что данные синтетитческие (даты сессий - рандомные даты из 2024г)"
   ]
  },
  {
   "cell_type": "markdown",
   "id": "7d81d4af-a5d1-4c55-b09a-faef4833ba47",
   "metadata": {},
   "source": [
    "### 4. Построение воронок конверсий для экранов приложения"
   ]
  },
  {
   "cell_type": "markdown",
   "id": "d84358b3-a6ba-445d-946b-09e9abb9075f",
   "metadata": {},
   "source": [
    "Рассчитаем поэтапные конверсии для этапов cart -> order_registration (корзина -> оформление заказа)\n",
    "                                          order_registration -> payment (оформление заказа -> страница платежа)\n",
    "                                          payment -> success (страница платежа -> успешная оплата) для января 2024"
   ]
  },
  {
   "cell_type": "code",
   "execution_count": null,
   "id": "771786cd-adc1-4dee-bf34-251c51d0b83e",
   "metadata": {},
   "outputs": [],
   "source": [
    "cursor.execute(\"\"\"SELECT * FROM events LIMIT 100\"\"\")\n",
    "rows = cursor.fetchall()\n",
    "for row in rows:\n",
    "    print(row)"
   ]
  },
  {
   "cell_type": "code",
   "execution_count": 200,
   "id": "eaad9b5b-5ec2-4ac6-a940-90e49e59170c",
   "metadata": {},
   "outputs": [],
   "source": [
    "#выборка сессий за январь 2024\n",
    "user_events_df = pd.read_sql(\"\"\"\n",
    "        SELECT * FROM \n",
    "        events e JOIN sessions s on s.session_id = e.session_id \n",
    "        where date(s.session_start) BETWEEN '2024-01-01' AND '2024-01-30'\"\"\", conn) "
   ]
  },
  {
   "cell_type": "code",
   "execution_count": 202,
   "id": "a1d384fc-bf83-4549-a99e-62b59f2eaa1a",
   "metadata": {
    "scrolled": true
   },
   "outputs": [
    {
     "data": {
      "text/html": [
       "<div>\n",
       "<style scoped>\n",
       "    .dataframe tbody tr th:only-of-type {\n",
       "        vertical-align: middle;\n",
       "    }\n",
       "\n",
       "    .dataframe tbody tr th {\n",
       "        vertical-align: top;\n",
       "    }\n",
       "\n",
       "    .dataframe thead th {\n",
       "        text-align: right;\n",
       "    }\n",
       "</style>\n",
       "<table border=\"1\" class=\"dataframe\">\n",
       "  <thead>\n",
       "    <tr style=\"text-align: right;\">\n",
       "      <th></th>\n",
       "      <th>event_id</th>\n",
       "      <th>session_id</th>\n",
       "      <th>event_type</th>\n",
       "      <th>session_id</th>\n",
       "      <th>user_id</th>\n",
       "      <th>session_start</th>\n",
       "    </tr>\n",
       "  </thead>\n",
       "  <tbody>\n",
       "    <tr>\n",
       "      <th>0</th>\n",
       "      <td>691</td>\n",
       "      <td>147</td>\n",
       "      <td>main</td>\n",
       "      <td>147</td>\n",
       "      <td>27</td>\n",
       "      <td>2024-01-10 03:52:39</td>\n",
       "    </tr>\n",
       "    <tr>\n",
       "      <th>1</th>\n",
       "      <td>692</td>\n",
       "      <td>147</td>\n",
       "      <td>search</td>\n",
       "      <td>147</td>\n",
       "      <td>27</td>\n",
       "      <td>2024-01-10 03:52:39</td>\n",
       "    </tr>\n",
       "    <tr>\n",
       "      <th>2</th>\n",
       "      <td>1577</td>\n",
       "      <td>347</td>\n",
       "      <td>main</td>\n",
       "      <td>347</td>\n",
       "      <td>54</td>\n",
       "      <td>2024-01-26 20:00:03</td>\n",
       "    </tr>\n",
       "    <tr>\n",
       "      <th>3</th>\n",
       "      <td>1578</td>\n",
       "      <td>347</td>\n",
       "      <td>search</td>\n",
       "      <td>347</td>\n",
       "      <td>54</td>\n",
       "      <td>2024-01-26 20:00:03</td>\n",
       "    </tr>\n",
       "    <tr>\n",
       "      <th>4</th>\n",
       "      <td>1579</td>\n",
       "      <td>347</td>\n",
       "      <td>main</td>\n",
       "      <td>347</td>\n",
       "      <td>54</td>\n",
       "      <td>2024-01-26 20:00:03</td>\n",
       "    </tr>\n",
       "    <tr>\n",
       "      <th>...</th>\n",
       "      <td>...</td>\n",
       "      <td>...</td>\n",
       "      <td>...</td>\n",
       "      <td>...</td>\n",
       "      <td>...</td>\n",
       "      <td>...</td>\n",
       "    </tr>\n",
       "    <tr>\n",
       "      <th>5455</th>\n",
       "      <td>315027</td>\n",
       "      <td>68630</td>\n",
       "      <td>product</td>\n",
       "      <td>68630</td>\n",
       "      <td>11971</td>\n",
       "      <td>2024-01-23 08:33:12</td>\n",
       "    </tr>\n",
       "    <tr>\n",
       "      <th>5456</th>\n",
       "      <td>315028</td>\n",
       "      <td>68630</td>\n",
       "      <td>cart</td>\n",
       "      <td>68630</td>\n",
       "      <td>11971</td>\n",
       "      <td>2024-01-23 08:33:12</td>\n",
       "    </tr>\n",
       "    <tr>\n",
       "      <th>5457</th>\n",
       "      <td>315029</td>\n",
       "      <td>68630</td>\n",
       "      <td>main</td>\n",
       "      <td>68630</td>\n",
       "      <td>11971</td>\n",
       "      <td>2024-01-23 08:33:12</td>\n",
       "    </tr>\n",
       "    <tr>\n",
       "      <th>5458</th>\n",
       "      <td>315030</td>\n",
       "      <td>68630</td>\n",
       "      <td>product</td>\n",
       "      <td>68630</td>\n",
       "      <td>11971</td>\n",
       "      <td>2024-01-23 08:33:12</td>\n",
       "    </tr>\n",
       "    <tr>\n",
       "      <th>5459</th>\n",
       "      <td>315031</td>\n",
       "      <td>68630</td>\n",
       "      <td>main</td>\n",
       "      <td>68630</td>\n",
       "      <td>11971</td>\n",
       "      <td>2024-01-23 08:33:12</td>\n",
       "    </tr>\n",
       "  </tbody>\n",
       "</table>\n",
       "<p>5460 rows × 6 columns</p>\n",
       "</div>"
      ],
      "text/plain": [
       "      event_id  session_id event_type  session_id  user_id  \\\n",
       "0          691         147       main         147       27   \n",
       "1          692         147     search         147       27   \n",
       "2         1577         347       main         347       54   \n",
       "3         1578         347     search         347       54   \n",
       "4         1579         347       main         347       54   \n",
       "...        ...         ...        ...         ...      ...   \n",
       "5455    315027       68630    product       68630    11971   \n",
       "5456    315028       68630       cart       68630    11971   \n",
       "5457    315029       68630       main       68630    11971   \n",
       "5458    315030       68630    product       68630    11971   \n",
       "5459    315031       68630       main       68630    11971   \n",
       "\n",
       "            session_start  \n",
       "0     2024-01-10 03:52:39  \n",
       "1     2024-01-10 03:52:39  \n",
       "2     2024-01-26 20:00:03  \n",
       "3     2024-01-26 20:00:03  \n",
       "4     2024-01-26 20:00:03  \n",
       "...                   ...  \n",
       "5455  2024-01-23 08:33:12  \n",
       "5456  2024-01-23 08:33:12  \n",
       "5457  2024-01-23 08:33:12  \n",
       "5458  2024-01-23 08:33:12  \n",
       "5459  2024-01-23 08:33:12  \n",
       "\n",
       "[5460 rows x 6 columns]"
      ]
     },
     "execution_count": 202,
     "metadata": {},
     "output_type": "execute_result"
    }
   ],
   "source": [
    "user_events_df"
   ]
  },
  {
   "cell_type": "code",
   "execution_count": 204,
   "id": "5ff4d36f-3f62-460d-9579-955478e8432a",
   "metadata": {},
   "outputs": [],
   "source": [
    "user_events_df.columns.values[3] = \"duplicate\""
   ]
  },
  {
   "cell_type": "code",
   "execution_count": null,
   "id": "dac25ff2-ae34-41b9-a058-996b40c87bc0",
   "metadata": {},
   "outputs": [],
   "source": [
    "user_events_df.drop(columns = ['duplicate'])"
   ]
  },
  {
   "cell_type": "code",
   "execution_count": 210,
   "id": "0a444781-549f-4ac9-a8b5-22ef5ed55579",
   "metadata": {},
   "outputs": [],
   "source": [
    "sessions = user_events_df['session_id'].unique().tolist()"
   ]
  },
  {
   "cell_type": "code",
   "execution_count": 216,
   "id": "d69c8fe4-632b-47ec-bfe6-d8cd685a188b",
   "metadata": {},
   "outputs": [],
   "source": [
    "#восстанавливаем флоу экранов для каждой сессии\n",
    "sessions_flow = []\n",
    "for session_id in sessions:\n",
    "   cur_flow = list(user_events_df.loc[user_events_df['session_id'] == session_id, 'event_type'])\n",
    "   sessions_flow.append({'session_id':session_id,\n",
    "                         'screen_flow':cur_flow})\n",
    "sessions_flow = pd.DataFrame(sessions_flow)"
   ]
  },
  {
   "cell_type": "code",
   "execution_count": 218,
   "id": "9f2eb7a7-5de5-45dc-a200-6a20d48c29a7",
   "metadata": {
    "scrolled": true
   },
   "outputs": [
    {
     "data": {
      "text/html": [
       "<div>\n",
       "<style scoped>\n",
       "    .dataframe tbody tr th:only-of-type {\n",
       "        vertical-align: middle;\n",
       "    }\n",
       "\n",
       "    .dataframe tbody tr th {\n",
       "        vertical-align: top;\n",
       "    }\n",
       "\n",
       "    .dataframe thead th {\n",
       "        text-align: right;\n",
       "    }\n",
       "</style>\n",
       "<table border=\"1\" class=\"dataframe\">\n",
       "  <thead>\n",
       "    <tr style=\"text-align: right;\">\n",
       "      <th></th>\n",
       "      <th>session_id</th>\n",
       "      <th>screen_flow</th>\n",
       "    </tr>\n",
       "  </thead>\n",
       "  <tbody>\n",
       "    <tr>\n",
       "      <th>0</th>\n",
       "      <td>147</td>\n",
       "      <td>[main, search]</td>\n",
       "    </tr>\n",
       "    <tr>\n",
       "      <th>1</th>\n",
       "      <td>347</td>\n",
       "      <td>[main, search, main, search, main, cart, order...</td>\n",
       "    </tr>\n",
       "    <tr>\n",
       "      <th>2</th>\n",
       "      <td>355</td>\n",
       "      <td>[main, cart, main, product]</td>\n",
       "    </tr>\n",
       "    <tr>\n",
       "      <th>3</th>\n",
       "      <td>363</td>\n",
       "      <td>[main, search, main, cart]</td>\n",
       "    </tr>\n",
       "    <tr>\n",
       "      <th>4</th>\n",
       "      <td>565</td>\n",
       "      <td>[main, product, cart, order_registration]</td>\n",
       "    </tr>\n",
       "    <tr>\n",
       "      <th>...</th>\n",
       "      <td>...</td>\n",
       "      <td>...</td>\n",
       "    </tr>\n",
       "    <tr>\n",
       "      <th>1187</th>\n",
       "      <td>68532</td>\n",
       "      <td>[main, search, product, search, product, main]</td>\n",
       "    </tr>\n",
       "    <tr>\n",
       "      <th>1188</th>\n",
       "      <td>68537</td>\n",
       "      <td>[main, cart]</td>\n",
       "    </tr>\n",
       "    <tr>\n",
       "      <th>1189</th>\n",
       "      <td>68538</td>\n",
       "      <td>[main, search]</td>\n",
       "    </tr>\n",
       "    <tr>\n",
       "      <th>1190</th>\n",
       "      <td>68609</td>\n",
       "      <td>[main, product, search, product]</td>\n",
       "    </tr>\n",
       "    <tr>\n",
       "      <th>1191</th>\n",
       "      <td>68630</td>\n",
       "      <td>[main, product, cart, main, product, main]</td>\n",
       "    </tr>\n",
       "  </tbody>\n",
       "</table>\n",
       "<p>1192 rows × 2 columns</p>\n",
       "</div>"
      ],
      "text/plain": [
       "      session_id                                        screen_flow\n",
       "0            147                                     [main, search]\n",
       "1            347  [main, search, main, search, main, cart, order...\n",
       "2            355                        [main, cart, main, product]\n",
       "3            363                         [main, search, main, cart]\n",
       "4            565          [main, product, cart, order_registration]\n",
       "...          ...                                                ...\n",
       "1187       68532     [main, search, product, search, product, main]\n",
       "1188       68537                                       [main, cart]\n",
       "1189       68538                                     [main, search]\n",
       "1190       68609                   [main, product, search, product]\n",
       "1191       68630         [main, product, cart, main, product, main]\n",
       "\n",
       "[1192 rows x 2 columns]"
      ]
     },
     "execution_count": 218,
     "metadata": {},
     "output_type": "execute_result"
    }
   ],
   "source": [
    "sessions_flow"
   ]
  },
  {
   "cell_type": "code",
   "execution_count": 250,
   "id": "7fd49845-9a3b-462e-80bd-d57f9e750874",
   "metadata": {},
   "outputs": [],
   "source": [
    "#функция для проверки наличия различных переходов с экрана на экран внутри флоу сессии\n",
    "def chain_in_list(lst,lst_chain):\n",
    "    return any(lst[i:i+len(lst_chain)] == lst_chain for i in range(len(lst) - len(lst_chain) + 1))"
   ]
  },
  {
   "cell_type": "code",
   "execution_count": null,
   "id": "f644264f-8349-4edb-81ec-b266f1b43c49",
   "metadata": {},
   "outputs": [],
   "source": [
    "#отмечаем 1 сессии, где реализуется тот или иной сценарий\n",
    "sessions_flow['cart'] = sessions_flow['screen_flow'].apply(lambda x: chain_in_list(x, ['cart']))\n",
    "sessions_flow['order_registration'] = sessions_flow['screen_flow'].apply(lambda x: chain_in_list(x, ['order_registration']))\n",
    "sessions_flow['payment'] = sessions_flow['screen_flow'].apply(lambda x: chain_in_list(x, ['payment']))\n",
    "sessions_flow['success'] = sessions_flow['screen_flow'].apply(lambda x: chain_in_list(x, ['success']))\n",
    "\n",
    "sessions_flow['cart_to_order'] = sessions_flow['screen_flow'].apply(lambda x: chain_in_list(x,['cart','order_registration']))\n",
    "sessions_flow['order_registration_to_pay'] = sessions_flow['screen_flow'].apply(lambda x: chain_in_list(x, ['order_registration','payment']))\n",
    "sessions_flow['payment_to_success'] = sessions_flow['screen_flow'].apply(lambda x: chain_in_list(x,['payment','success']))\n",
    "\n",
    "sessions_flow = sessions_flow.replace({True:1, False:0})"
   ]
  },
  {
   "cell_type": "code",
   "execution_count": 270,
   "id": "c2ea7074-992d-442d-ab8a-8c126a95ef86",
   "metadata": {},
   "outputs": [
    {
     "name": "stdout",
     "output_type": "stream",
     "text": [
      "0.3036935704514364 0.38738738738738737 0.3372093023255814\n"
     ]
    }
   ],
   "source": [
    "#считаем три поэтапные конверсии (за базу каждый раз ерется предыдщий, а не самый первый шаг)\n",
    "conv1 = sum(sessions_flow['cart_to_order'])/sum(sessions_flow['cart'])\n",
    "conv2 = sum(sessions_flow['order_registration_to_pay'])/sum(sessions_flow['order_registration'])\n",
    "conv3 = sum(sessions_flow['payment_to_success'])/sum(sessions_flow['payment'])\n",
    "print(conv1, conv2, conv3)"
   ]
  },
  {
   "cell_type": "code",
   "execution_count": 328,
   "id": "8f73e49a-4393-4b85-b5a8-e903faa977e4",
   "metadata": {},
   "outputs": [
    {
     "data": {
      "application/vnd.plotly.v1+json": {
       "config": {
        "plotlyServerURL": "https://plot.ly"
       },
       "data": [
        {
         "hovertemplate": "Сессии=%{x}<br>Этап=%{y}<extra></extra>",
         "legendgroup": "",
         "marker": {
          "color": "#636efa"
         },
         "name": "",
         "orientation": "h",
         "showlegend": false,
         "type": "funnel",
         "x": [
          731,
          222,
          86,
          29
         ],
         "xaxis": "x",
         "y": [
          "Cart",
          "Order Registration",
          "Payment",
          "Success"
         ],
         "yaxis": "y"
        }
       ],
       "layout": {
        "annotations": [
         {
          "font": {
           "color": "darkblue",
           "size": 14
          },
          "showarrow": false,
          "text": "30.37%",
          "x": 250,
          "xref": "x",
          "y": "Order Registration",
          "yref": "y"
         },
         {
          "font": {
           "color": "darkblue",
           "size": 14
          },
          "showarrow": false,
          "text": "11.76%",
          "x": 180,
          "xref": "x",
          "y": "Payment",
          "yref": "y"
         },
         {
          "font": {
           "color": "darkblue",
           "size": 14
          },
          "showarrow": false,
          "text": "3.97%",
          "x": 110,
          "xref": "x",
          "y": "Success",
          "yref": "y"
         }
        ],
        "autosize": true,
        "legend": {
         "tracegroupgap": 0
        },
        "margin": {
         "t": 60
        },
        "template": {
         "data": {
          "bar": [
           {
            "error_x": {
             "color": "#2a3f5f"
            },
            "error_y": {
             "color": "#2a3f5f"
            },
            "marker": {
             "line": {
              "color": "#E5ECF6",
              "width": 0.5
             },
             "pattern": {
              "fillmode": "overlay",
              "size": 10,
              "solidity": 0.2
             }
            },
            "type": "bar"
           }
          ],
          "barpolar": [
           {
            "marker": {
             "line": {
              "color": "#E5ECF6",
              "width": 0.5
             },
             "pattern": {
              "fillmode": "overlay",
              "size": 10,
              "solidity": 0.2
             }
            },
            "type": "barpolar"
           }
          ],
          "carpet": [
           {
            "aaxis": {
             "endlinecolor": "#2a3f5f",
             "gridcolor": "white",
             "linecolor": "white",
             "minorgridcolor": "white",
             "startlinecolor": "#2a3f5f"
            },
            "baxis": {
             "endlinecolor": "#2a3f5f",
             "gridcolor": "white",
             "linecolor": "white",
             "minorgridcolor": "white",
             "startlinecolor": "#2a3f5f"
            },
            "type": "carpet"
           }
          ],
          "choropleth": [
           {
            "colorbar": {
             "outlinewidth": 0,
             "ticks": ""
            },
            "type": "choropleth"
           }
          ],
          "contour": [
           {
            "colorbar": {
             "outlinewidth": 0,
             "ticks": ""
            },
            "colorscale": [
             [
              0,
              "#0d0887"
             ],
             [
              0.1111111111111111,
              "#46039f"
             ],
             [
              0.2222222222222222,
              "#7201a8"
             ],
             [
              0.3333333333333333,
              "#9c179e"
             ],
             [
              0.4444444444444444,
              "#bd3786"
             ],
             [
              0.5555555555555556,
              "#d8576b"
             ],
             [
              0.6666666666666666,
              "#ed7953"
             ],
             [
              0.7777777777777778,
              "#fb9f3a"
             ],
             [
              0.8888888888888888,
              "#fdca26"
             ],
             [
              1,
              "#f0f921"
             ]
            ],
            "type": "contour"
           }
          ],
          "contourcarpet": [
           {
            "colorbar": {
             "outlinewidth": 0,
             "ticks": ""
            },
            "type": "contourcarpet"
           }
          ],
          "heatmap": [
           {
            "colorbar": {
             "outlinewidth": 0,
             "ticks": ""
            },
            "colorscale": [
             [
              0,
              "#0d0887"
             ],
             [
              0.1111111111111111,
              "#46039f"
             ],
             [
              0.2222222222222222,
              "#7201a8"
             ],
             [
              0.3333333333333333,
              "#9c179e"
             ],
             [
              0.4444444444444444,
              "#bd3786"
             ],
             [
              0.5555555555555556,
              "#d8576b"
             ],
             [
              0.6666666666666666,
              "#ed7953"
             ],
             [
              0.7777777777777778,
              "#fb9f3a"
             ],
             [
              0.8888888888888888,
              "#fdca26"
             ],
             [
              1,
              "#f0f921"
             ]
            ],
            "type": "heatmap"
           }
          ],
          "heatmapgl": [
           {
            "colorbar": {
             "outlinewidth": 0,
             "ticks": ""
            },
            "colorscale": [
             [
              0,
              "#0d0887"
             ],
             [
              0.1111111111111111,
              "#46039f"
             ],
             [
              0.2222222222222222,
              "#7201a8"
             ],
             [
              0.3333333333333333,
              "#9c179e"
             ],
             [
              0.4444444444444444,
              "#bd3786"
             ],
             [
              0.5555555555555556,
              "#d8576b"
             ],
             [
              0.6666666666666666,
              "#ed7953"
             ],
             [
              0.7777777777777778,
              "#fb9f3a"
             ],
             [
              0.8888888888888888,
              "#fdca26"
             ],
             [
              1,
              "#f0f921"
             ]
            ],
            "type": "heatmapgl"
           }
          ],
          "histogram": [
           {
            "marker": {
             "pattern": {
              "fillmode": "overlay",
              "size": 10,
              "solidity": 0.2
             }
            },
            "type": "histogram"
           }
          ],
          "histogram2d": [
           {
            "colorbar": {
             "outlinewidth": 0,
             "ticks": ""
            },
            "colorscale": [
             [
              0,
              "#0d0887"
             ],
             [
              0.1111111111111111,
              "#46039f"
             ],
             [
              0.2222222222222222,
              "#7201a8"
             ],
             [
              0.3333333333333333,
              "#9c179e"
             ],
             [
              0.4444444444444444,
              "#bd3786"
             ],
             [
              0.5555555555555556,
              "#d8576b"
             ],
             [
              0.6666666666666666,
              "#ed7953"
             ],
             [
              0.7777777777777778,
              "#fb9f3a"
             ],
             [
              0.8888888888888888,
              "#fdca26"
             ],
             [
              1,
              "#f0f921"
             ]
            ],
            "type": "histogram2d"
           }
          ],
          "histogram2dcontour": [
           {
            "colorbar": {
             "outlinewidth": 0,
             "ticks": ""
            },
            "colorscale": [
             [
              0,
              "#0d0887"
             ],
             [
              0.1111111111111111,
              "#46039f"
             ],
             [
              0.2222222222222222,
              "#7201a8"
             ],
             [
              0.3333333333333333,
              "#9c179e"
             ],
             [
              0.4444444444444444,
              "#bd3786"
             ],
             [
              0.5555555555555556,
              "#d8576b"
             ],
             [
              0.6666666666666666,
              "#ed7953"
             ],
             [
              0.7777777777777778,
              "#fb9f3a"
             ],
             [
              0.8888888888888888,
              "#fdca26"
             ],
             [
              1,
              "#f0f921"
             ]
            ],
            "type": "histogram2dcontour"
           }
          ],
          "mesh3d": [
           {
            "colorbar": {
             "outlinewidth": 0,
             "ticks": ""
            },
            "type": "mesh3d"
           }
          ],
          "parcoords": [
           {
            "line": {
             "colorbar": {
              "outlinewidth": 0,
              "ticks": ""
             }
            },
            "type": "parcoords"
           }
          ],
          "pie": [
           {
            "automargin": true,
            "type": "pie"
           }
          ],
          "scatter": [
           {
            "fillpattern": {
             "fillmode": "overlay",
             "size": 10,
             "solidity": 0.2
            },
            "type": "scatter"
           }
          ],
          "scatter3d": [
           {
            "line": {
             "colorbar": {
              "outlinewidth": 0,
              "ticks": ""
             }
            },
            "marker": {
             "colorbar": {
              "outlinewidth": 0,
              "ticks": ""
             }
            },
            "type": "scatter3d"
           }
          ],
          "scattercarpet": [
           {
            "marker": {
             "colorbar": {
              "outlinewidth": 0,
              "ticks": ""
             }
            },
            "type": "scattercarpet"
           }
          ],
          "scattergeo": [
           {
            "marker": {
             "colorbar": {
              "outlinewidth": 0,
              "ticks": ""
             }
            },
            "type": "scattergeo"
           }
          ],
          "scattergl": [
           {
            "marker": {
             "colorbar": {
              "outlinewidth": 0,
              "ticks": ""
             }
            },
            "type": "scattergl"
           }
          ],
          "scattermapbox": [
           {
            "marker": {
             "colorbar": {
              "outlinewidth": 0,
              "ticks": ""
             }
            },
            "type": "scattermapbox"
           }
          ],
          "scatterpolar": [
           {
            "marker": {
             "colorbar": {
              "outlinewidth": 0,
              "ticks": ""
             }
            },
            "type": "scatterpolar"
           }
          ],
          "scatterpolargl": [
           {
            "marker": {
             "colorbar": {
              "outlinewidth": 0,
              "ticks": ""
             }
            },
            "type": "scatterpolargl"
           }
          ],
          "scatterternary": [
           {
            "marker": {
             "colorbar": {
              "outlinewidth": 0,
              "ticks": ""
             }
            },
            "type": "scatterternary"
           }
          ],
          "surface": [
           {
            "colorbar": {
             "outlinewidth": 0,
             "ticks": ""
            },
            "colorscale": [
             [
              0,
              "#0d0887"
             ],
             [
              0.1111111111111111,
              "#46039f"
             ],
             [
              0.2222222222222222,
              "#7201a8"
             ],
             [
              0.3333333333333333,
              "#9c179e"
             ],
             [
              0.4444444444444444,
              "#bd3786"
             ],
             [
              0.5555555555555556,
              "#d8576b"
             ],
             [
              0.6666666666666666,
              "#ed7953"
             ],
             [
              0.7777777777777778,
              "#fb9f3a"
             ],
             [
              0.8888888888888888,
              "#fdca26"
             ],
             [
              1,
              "#f0f921"
             ]
            ],
            "type": "surface"
           }
          ],
          "table": [
           {
            "cells": {
             "fill": {
              "color": "#EBF0F8"
             },
             "line": {
              "color": "white"
             }
            },
            "header": {
             "fill": {
              "color": "#C8D4E3"
             },
             "line": {
              "color": "white"
             }
            },
            "type": "table"
           }
          ]
         },
         "layout": {
          "annotationdefaults": {
           "arrowcolor": "#2a3f5f",
           "arrowhead": 0,
           "arrowwidth": 1
          },
          "autotypenumbers": "strict",
          "coloraxis": {
           "colorbar": {
            "outlinewidth": 0,
            "ticks": ""
           }
          },
          "colorscale": {
           "diverging": [
            [
             0,
             "#8e0152"
            ],
            [
             0.1,
             "#c51b7d"
            ],
            [
             0.2,
             "#de77ae"
            ],
            [
             0.3,
             "#f1b6da"
            ],
            [
             0.4,
             "#fde0ef"
            ],
            [
             0.5,
             "#f7f7f7"
            ],
            [
             0.6,
             "#e6f5d0"
            ],
            [
             0.7,
             "#b8e186"
            ],
            [
             0.8,
             "#7fbc41"
            ],
            [
             0.9,
             "#4d9221"
            ],
            [
             1,
             "#276419"
            ]
           ],
           "sequential": [
            [
             0,
             "#0d0887"
            ],
            [
             0.1111111111111111,
             "#46039f"
            ],
            [
             0.2222222222222222,
             "#7201a8"
            ],
            [
             0.3333333333333333,
             "#9c179e"
            ],
            [
             0.4444444444444444,
             "#bd3786"
            ],
            [
             0.5555555555555556,
             "#d8576b"
            ],
            [
             0.6666666666666666,
             "#ed7953"
            ],
            [
             0.7777777777777778,
             "#fb9f3a"
            ],
            [
             0.8888888888888888,
             "#fdca26"
            ],
            [
             1,
             "#f0f921"
            ]
           ],
           "sequentialminus": [
            [
             0,
             "#0d0887"
            ],
            [
             0.1111111111111111,
             "#46039f"
            ],
            [
             0.2222222222222222,
             "#7201a8"
            ],
            [
             0.3333333333333333,
             "#9c179e"
            ],
            [
             0.4444444444444444,
             "#bd3786"
            ],
            [
             0.5555555555555556,
             "#d8576b"
            ],
            [
             0.6666666666666666,
             "#ed7953"
            ],
            [
             0.7777777777777778,
             "#fb9f3a"
            ],
            [
             0.8888888888888888,
             "#fdca26"
            ],
            [
             1,
             "#f0f921"
            ]
           ]
          },
          "colorway": [
           "#636efa",
           "#EF553B",
           "#00cc96",
           "#ab63fa",
           "#FFA15A",
           "#19d3f3",
           "#FF6692",
           "#B6E880",
           "#FF97FF",
           "#FECB52"
          ],
          "font": {
           "color": "#2a3f5f"
          },
          "geo": {
           "bgcolor": "white",
           "lakecolor": "white",
           "landcolor": "#E5ECF6",
           "showlakes": true,
           "showland": true,
           "subunitcolor": "white"
          },
          "hoverlabel": {
           "align": "left"
          },
          "hovermode": "closest",
          "mapbox": {
           "style": "light"
          },
          "paper_bgcolor": "white",
          "plot_bgcolor": "#E5ECF6",
          "polar": {
           "angularaxis": {
            "gridcolor": "white",
            "linecolor": "white",
            "ticks": ""
           },
           "bgcolor": "#E5ECF6",
           "radialaxis": {
            "gridcolor": "white",
            "linecolor": "white",
            "ticks": ""
           }
          },
          "scene": {
           "xaxis": {
            "backgroundcolor": "#E5ECF6",
            "gridcolor": "white",
            "gridwidth": 2,
            "linecolor": "white",
            "showbackground": true,
            "ticks": "",
            "zerolinecolor": "white"
           },
           "yaxis": {
            "backgroundcolor": "#E5ECF6",
            "gridcolor": "white",
            "gridwidth": 2,
            "linecolor": "white",
            "showbackground": true,
            "ticks": "",
            "zerolinecolor": "white"
           },
           "zaxis": {
            "backgroundcolor": "#E5ECF6",
            "gridcolor": "white",
            "gridwidth": 2,
            "linecolor": "white",
            "showbackground": true,
            "ticks": "",
            "zerolinecolor": "white"
           }
          },
          "shapedefaults": {
           "line": {
            "color": "#2a3f5f"
           }
          },
          "ternary": {
           "aaxis": {
            "gridcolor": "white",
            "linecolor": "white",
            "ticks": ""
           },
           "baxis": {
            "gridcolor": "white",
            "linecolor": "white",
            "ticks": ""
           },
           "bgcolor": "#E5ECF6",
           "caxis": {
            "gridcolor": "white",
            "linecolor": "white",
            "ticks": ""
           }
          },
          "title": {
           "x": 0.05
          },
          "xaxis": {
           "automargin": true,
           "gridcolor": "white",
           "linecolor": "white",
           "ticks": "",
           "title": {
            "standoff": 15
           },
           "zerolinecolor": "white",
           "zerolinewidth": 2
          },
          "yaxis": {
           "automargin": true,
           "gridcolor": "white",
           "linecolor": "white",
           "ticks": "",
           "title": {
            "standoff": 15
           },
           "zerolinecolor": "white",
           "zerolinewidth": 2
          }
         }
        },
        "title": {
         "font": {
          "size": 20
         },
         "text": "<b>Сквозная воронка конверсий: Cart → Success</b>",
         "x": 0.5,
         "xanchor": "center",
         "y": 0.95,
         "yanchor": "top"
        },
        "xaxis": {
         "anchor": "y",
         "autorange": true,
         "domain": [
          0,
          1
         ],
         "range": [
          -406.1111111111111,
          406.1111111111111
         ],
         "title": {
          "text": "Сессии"
         },
         "type": "linear"
        },
        "yaxis": {
         "anchor": "x",
         "autorange": true,
         "domain": [
          0,
          1
         ],
         "range": [
          3.5,
          -0.5
         ],
         "title": {
          "text": "Этап"
         },
         "type": "category"
        }
       }
      },
      "image/png": "[encoded data removed]",
      "text/html": [
       "<div>                            <div id=\"9bbcd9fd-71ff-4e00-bd32-dd01c470e1e9\" class=\"plotly-graph-div\" style=\"height:525px; width:100%;\"></div>            <script type=\"text/javascript\">                require([\"plotly\"], function(Plotly) {                    window.PLOTLYENV=window.PLOTLYENV || {};                                    if (document.getElementById(\"9bbcd9fd-71ff-4e00-bd32-dd01c470e1e9\")) {                    Plotly.newPlot(                        \"9bbcd9fd-71ff-4e00-bd32-dd01c470e1e9\",                        [{\"hovertemplate\":\"\\u0421\\u0435\\u0441\\u0441\\u0438\\u0438=%{x}\\u003cbr\\u003e\\u042d\\u0442\\u0430\\u043f=%{y}\\u003cextra\\u003e\\u003c\\u002fextra\\u003e\",\"legendgroup\":\"\",\"marker\":{\"color\":\"#636efa\"},\"name\":\"\",\"orientation\":\"h\",\"showlegend\":false,\"x\":[731,222,86,29],\"xaxis\":\"x\",\"y\":[\"Cart\",\"Order Registration\",\"Payment\",\"Success\"],\"yaxis\":\"y\",\"type\":\"funnel\"}],                        {\"template\":{\"data\":{\"histogram2dcontour\":[{\"type\":\"histogram2dcontour\",\"colorbar\":{\"outlinewidth\":0,\"ticks\":\"\"},\"colorscale\":[[0.0,\"#0d0887\"],[0.1111111111111111,\"#46039f\"],[0.2222222222222222,\"#7201a8\"],[0.3333333333333333,\"#9c179e\"],[0.4444444444444444,\"#bd3786\"],[0.5555555555555556,\"#d8576b\"],[0.6666666666666666,\"#ed7953\"],[0.7777777777777778,\"#fb9f3a\"],[0.8888888888888888,\"#fdca26\"],[1.0,\"#f0f921\"]]}],\"choropleth\":[{\"type\":\"choropleth\",\"colorbar\":{\"outlinewidth\":0,\"ticks\":\"\"}}],\"histogram2d\":[{\"type\":\"histogram2d\",\"colorbar\":{\"outlinewidth\":0,\"ticks\":\"\"},\"colorscale\":[[0.0,\"#0d0887\"],[0.1111111111111111,\"#46039f\"],[0.2222222222222222,\"#7201a8\"],[0.3333333333333333,\"#9c179e\"],[0.4444444444444444,\"#bd3786\"],[0.5555555555555556,\"#d8576b\"],[0.6666666666666666,\"#ed7953\"],[0.7777777777777778,\"#fb9f3a\"],[0.8888888888888888,\"#fdca26\"],[1.0,\"#f0f921\"]]}],\"heatmap\":[{\"type\":\"heatmap\",\"colorbar\":{\"outlinewidth\":0,\"ticks\":\"\"},\"colorscale\":[[0.0,\"#0d0887\"],[0.1111111111111111,\"#46039f\"],[0.2222222222222222,\"#7201a8\"],[0.3333333333333333,\"#9c179e\"],[0.4444444444444444,\"#bd3786\"],[0.5555555555555556,\"#d8576b\"],[0.6666666666666666,\"#ed7953\"],[0.7777777777777778,\"#fb9f3a\"],[0.8888888888888888,\"#fdca26\"],[1.0,\"#f0f921\"]]}],\"heatmapgl\":[{\"type\":\"heatmapgl\",\"colorbar\":{\"outlinewidth\":0,\"ticks\":\"\"},\"colorscale\":[[0.0,\"#0d0887\"],[0.1111111111111111,\"#46039f\"],[0.2222222222222222,\"#7201a8\"],[0.3333333333333333,\"#9c179e\"],[0.4444444444444444,\"#bd3786\"],[0.5555555555555556,\"#d8576b\"],[0.6666666666666666,\"#ed7953\"],[0.7777777777777778,\"#fb9f3a\"],[0.8888888888888888,\"#fdca26\"],[1.0,\"#f0f921\"]]}],\"contourcarpet\":[{\"type\":\"contourcarpet\",\"colorbar\":{\"outlinewidth\":0,\"ticks\":\"\"}}],\"contour\":[{\"type\":\"contour\",\"colorbar\":{\"outlinewidth\":0,\"ticks\":\"\"},\"colorscale\":[[0.0,\"#0d0887\"],[0.1111111111111111,\"#46039f\"],[0.2222222222222222,\"#7201a8\"],[0.3333333333333333,\"#9c179e\"],[0.4444444444444444,\"#bd3786\"],[0.5555555555555556,\"#d8576b\"],[0.6666666666666666,\"#ed7953\"],[0.7777777777777778,\"#fb9f3a\"],[0.8888888888888888,\"#fdca26\"],[1.0,\"#f0f921\"]]}],\"surface\":[{\"type\":\"surface\",\"colorbar\":{\"outlinewidth\":0,\"ticks\":\"\"},\"colorscale\":[[0.0,\"#0d0887\"],[0.1111111111111111,\"#46039f\"],[0.2222222222222222,\"#7201a8\"],[0.3333333333333333,\"#9c179e\"],[0.4444444444444444,\"#bd3786\"],[0.5555555555555556,\"#d8576b\"],[0.6666666666666666,\"#ed7953\"],[0.7777777777777778,\"#fb9f3a\"],[0.8888888888888888,\"#fdca26\"],[1.0,\"#f0f921\"]]}],\"mesh3d\":[{\"type\":\"mesh3d\",\"colorbar\":{\"outlinewidth\":0,\"ticks\":\"\"}}],\"scatter\":[{\"fillpattern\":{\"fillmode\":\"overlay\",\"size\":10,\"solidity\":0.2},\"type\":\"scatter\"}],\"parcoords\":[{\"type\":\"parcoords\",\"line\":{\"colorbar\":{\"outlinewidth\":0,\"ticks\":\"\"}}}],\"scatterpolargl\":[{\"type\":\"scatterpolargl\",\"marker\":{\"colorbar\":{\"outlinewidth\":0,\"ticks\":\"\"}}}],\"bar\":[{\"error_x\":{\"color\":\"#2a3f5f\"},\"error_y\":{\"color\":\"#2a3f5f\"},\"marker\":{\"line\":{\"color\":\"#E5ECF6\",\"width\":0.5},\"pattern\":{\"fillmode\":\"overlay\",\"size\":10,\"solidity\":0.2}},\"type\":\"bar\"}],\"scattergeo\":[{\"type\":\"scattergeo\",\"marker\":{\"colorbar\":{\"outlinewidth\":0,\"ticks\":\"\"}}}],\"scatterpolar\":[{\"type\":\"scatterpolar\",\"marker\":{\"colorbar\":{\"outlinewidth\":0,\"ticks\":\"\"}}}],\"histogram\":[{\"marker\":{\"pattern\":{\"fillmode\":\"overlay\",\"size\":10,\"solidity\":0.2}},\"type\":\"histogram\"}],\"scattergl\":[{\"type\":\"scattergl\",\"marker\":{\"colorbar\":{\"outlinewidth\":0,\"ticks\":\"\"}}}],\"scatter3d\":[{\"type\":\"scatter3d\",\"line\":{\"colorbar\":{\"outlinewidth\":0,\"ticks\":\"\"}},\"marker\":{\"colorbar\":{\"outlinewidth\":0,\"ticks\":\"\"}}}],\"scattermapbox\":[{\"type\":\"scattermapbox\",\"marker\":{\"colorbar\":{\"outlinewidth\":0,\"ticks\":\"\"}}}],\"scatterternary\":[{\"type\":\"scatterternary\",\"marker\":{\"colorbar\":{\"outlinewidth\":0,\"ticks\":\"\"}}}],\"scattercarpet\":[{\"type\":\"scattercarpet\",\"marker\":{\"colorbar\":{\"outlinewidth\":0,\"ticks\":\"\"}}}],\"carpet\":[{\"aaxis\":{\"endlinecolor\":\"#2a3f5f\",\"gridcolor\":\"white\",\"linecolor\":\"white\",\"minorgridcolor\":\"white\",\"startlinecolor\":\"#2a3f5f\"},\"baxis\":{\"endlinecolor\":\"#2a3f5f\",\"gridcolor\":\"white\",\"linecolor\":\"white\",\"minorgridcolor\":\"white\",\"startlinecolor\":\"#2a3f5f\"},\"type\":\"carpet\"}],\"table\":[{\"cells\":{\"fill\":{\"color\":\"#EBF0F8\"},\"line\":{\"color\":\"white\"}},\"header\":{\"fill\":{\"color\":\"#C8D4E3\"},\"line\":{\"color\":\"white\"}},\"type\":\"table\"}],\"barpolar\":[{\"marker\":{\"line\":{\"color\":\"#E5ECF6\",\"width\":0.5},\"pattern\":{\"fillmode\":\"overlay\",\"size\":10,\"solidity\":0.2}},\"type\":\"barpolar\"}],\"pie\":[{\"automargin\":true,\"type\":\"pie\"}]},\"layout\":{\"autotypenumbers\":\"strict\",\"colorway\":[\"#636efa\",\"#EF553B\",\"#00cc96\",\"#ab63fa\",\"#FFA15A\",\"#19d3f3\",\"#FF6692\",\"#B6E880\",\"#FF97FF\",\"#FECB52\"],\"font\":{\"color\":\"#2a3f5f\"},\"hovermode\":\"closest\",\"hoverlabel\":{\"align\":\"left\"},\"paper_bgcolor\":\"white\",\"plot_bgcolor\":\"#E5ECF6\",\"polar\":{\"bgcolor\":\"#E5ECF6\",\"angularaxis\":{\"gridcolor\":\"white\",\"linecolor\":\"white\",\"ticks\":\"\"},\"radialaxis\":{\"gridcolor\":\"white\",\"linecolor\":\"white\",\"ticks\":\"\"}},\"ternary\":{\"bgcolor\":\"#E5ECF6\",\"aaxis\":{\"gridcolor\":\"white\",\"linecolor\":\"white\",\"ticks\":\"\"},\"baxis\":{\"gridcolor\":\"white\",\"linecolor\":\"white\",\"ticks\":\"\"},\"caxis\":{\"gridcolor\":\"white\",\"linecolor\":\"white\",\"ticks\":\"\"}},\"coloraxis\":{\"colorbar\":{\"outlinewidth\":0,\"ticks\":\"\"}},\"colorscale\":{\"sequential\":[[0.0,\"#0d0887\"],[0.1111111111111111,\"#46039f\"],[0.2222222222222222,\"#7201a8\"],[0.3333333333333333,\"#9c179e\"],[0.4444444444444444,\"#bd3786\"],[0.5555555555555556,\"#d8576b\"],[0.6666666666666666,\"#ed7953\"],[0.7777777777777778,\"#fb9f3a\"],[0.8888888888888888,\"#fdca26\"],[1.0,\"#f0f921\"]],\"sequentialminus\":[[0.0,\"#0d0887\"],[0.1111111111111111,\"#46039f\"],[0.2222222222222222,\"#7201a8\"],[0.3333333333333333,\"#9c179e\"],[0.4444444444444444,\"#bd3786\"],[0.5555555555555556,\"#d8576b\"],[0.6666666666666666,\"#ed7953\"],[0.7777777777777778,\"#fb9f3a\"],[0.8888888888888888,\"#fdca26\"],[1.0,\"#f0f921\"]],\"diverging\":[[0,\"#8e0152\"],[0.1,\"#c51b7d\"],[0.2,\"#de77ae\"],[0.3,\"#f1b6da\"],[0.4,\"#fde0ef\"],[0.5,\"#f7f7f7\"],[0.6,\"#e6f5d0\"],[0.7,\"#b8e186\"],[0.8,\"#7fbc41\"],[0.9,\"#4d9221\"],[1,\"#276419\"]]},\"xaxis\":{\"gridcolor\":\"white\",\"linecolor\":\"white\",\"ticks\":\"\",\"title\":{\"standoff\":15},\"zerolinecolor\":\"white\",\"automargin\":true,\"zerolinewidth\":2},\"yaxis\":{\"gridcolor\":\"white\",\"linecolor\":\"white\",\"ticks\":\"\",\"title\":{\"standoff\":15},\"zerolinecolor\":\"white\",\"automargin\":true,\"zerolinewidth\":2},\"scene\":{\"xaxis\":{\"backgroundcolor\":\"#E5ECF6\",\"gridcolor\":\"white\",\"linecolor\":\"white\",\"showbackground\":true,\"ticks\":\"\",\"zerolinecolor\":\"white\",\"gridwidth\":2},\"yaxis\":{\"backgroundcolor\":\"#E5ECF6\",\"gridcolor\":\"white\",\"linecolor\":\"white\",\"showbackground\":true,\"ticks\":\"\",\"zerolinecolor\":\"white\",\"gridwidth\":2},\"zaxis\":{\"backgroundcolor\":\"#E5ECF6\",\"gridcolor\":\"white\",\"linecolor\":\"white\",\"showbackground\":true,\"ticks\":\"\",\"zerolinecolor\":\"white\",\"gridwidth\":2}},\"shapedefaults\":{\"line\":{\"color\":\"#2a3f5f\"}},\"annotationdefaults\":{\"arrowcolor\":\"#2a3f5f\",\"arrowhead\":0,\"arrowwidth\":1},\"geo\":{\"bgcolor\":\"white\",\"landcolor\":\"#E5ECF6\",\"subunitcolor\":\"white\",\"showland\":true,\"showlakes\":true,\"lakecolor\":\"white\"},\"title\":{\"x\":0.05},\"mapbox\":{\"style\":\"light\"}}},\"xaxis\":{\"anchor\":\"y\",\"domain\":[0.0,1.0],\"title\":{\"text\":\"\\u0421\\u0435\\u0441\\u0441\\u0438\\u0438\"}},\"yaxis\":{\"anchor\":\"x\",\"domain\":[0.0,1.0],\"title\":{\"text\":\"\\u042d\\u0442\\u0430\\u043f\"}},\"legend\":{\"tracegroupgap\":0},\"margin\":{\"t\":60},\"title\":{\"font\":{\"size\":20},\"text\":\"\\u003cb\\u003e\\u0421\\u043a\\u0432\\u043e\\u0437\\u043d\\u0430\\u044f \\u0432\\u043e\\u0440\\u043e\\u043d\\u043a\\u0430 \\u043a\\u043e\\u043d\\u0432\\u0435\\u0440\\u0441\\u0438\\u0439: Cart \\u2192 Success\\u003c\\u002fb\\u003e\",\"y\":0.95,\"x\":0.5,\"xanchor\":\"center\",\"yanchor\":\"top\"},\"annotations\":[{\"font\":{\"color\":\"darkblue\",\"size\":14},\"showarrow\":false,\"text\":\"30.37%\",\"x\":250,\"xref\":\"x\",\"y\":\"Order Registration\",\"yref\":\"y\"},{\"font\":{\"color\":\"darkblue\",\"size\":14},\"showarrow\":false,\"text\":\"11.76%\",\"x\":180,\"xref\":\"x\",\"y\":\"Payment\",\"yref\":\"y\"},{\"font\":{\"color\":\"darkblue\",\"size\":14},\"showarrow\":false,\"text\":\"3.97%\",\"x\":110,\"xref\":\"x\",\"y\":\"Success\",\"yref\":\"y\"}]},                        {\"responsive\": true}                    ).then(function(){\n",
       "                            \n",
       "var gd = document.getElementById('9bbcd9fd-71ff-4e00-bd32-dd01c470e1e9');\n",
       "var x = new MutationObserver(function (mutations, observer) {{\n",
       "        var display = window.getComputedStyle(gd).display;\n",
       "        if (!display || display === 'none') {{\n",
       "            console.log([gd, 'removed!']);\n",
       "            Plotly.purge(gd);\n",
       "            observer.disconnect();\n",
       "        }}\n",
       "}});\n",
       "\n",
       "// Listen for the removal of the full notebook cells\n",
       "var notebookContainer = gd.closest('#notebook-container');\n",
       "if (notebookContainer) {{\n",
       "    x.observe(notebookContainer, {childList: true});\n",
       "}}\n",
       "\n",
       "// Listen for the clearing of the current output cell\n",
       "var outputEl = gd.closest('.output');\n",
       "if (outputEl) {{\n",
       "    x.observe(outputEl, {childList: true});\n",
       "}}\n",
       "\n",
       "                        })                };                });            </script>        </div>"
      ]
     },
     "metadata": {},
     "output_type": "display_data"
    }
   ],
   "source": [
    "#визуализируем воронку\n",
    "import plotly.express as px\n",
    "\n",
    "funnel = pd.DataFrame({\n",
    "    \"Этап\": [\"Cart\", \"Order Registration\", \"Payment\", \"Success\"],\n",
    "    \"Сессии\": [sum(sessions_flow['cart']),  sum(sessions_flow['cart_to_order']), \\\n",
    "               sum(sessions_flow['order_registration_to_pay']), sum(sessions_flow['payment_to_success'])]\n",
    "})\n",
    "fig = px.funnel(funnel, x=\"Сессии\", y=\"Этап\")\n",
    "\n",
    "fig.update_layout(\n",
    "    title={\n",
    "        'text': \"<b>Сквозная воронка конверсий: Cart → Success</b>\",\n",
    "        'y': 0.95,\n",
    "        'x': 0.5,\n",
    "        'xanchor': 'center',\n",
    "        'yanchor': 'top',\n",
    "        'font': {'size': 20}\n",
    "    }\n",
    ")\n",
    "\n",
    "#Добавляем подпись с конверсией \n",
    "fig.add_annotation(\n",
    "    x=250,   #абсолютное значение из оси Х\n",
    "    y=\"Order Registration\", #категория из оси Y\n",
    "    text=f\"{round(conv1*100,2)}%\",\n",
    "    showarrow=False,\n",
    "    xref=\"x\",  # Привязка к оси X данных (не к области графика)\n",
    "    yref=\"y\",  #привязка к оси Y данных (у данных по оси Y категории)\n",
    "    font={'size': 14, 'color': 'darkblue'}\n",
    ")\n",
    "#Добавляем подпись с конверсией \n",
    "fig.add_annotation(\n",
    "    x=180, \n",
    "    y=\"Payment\",\n",
    "    text=f\"{round(conv1*conv2*100,2)}%\",\n",
    "    showarrow=False,\n",
    "    xref=\"x\",  # Привязка к оси X данных (не к области графика)\n",
    "    yref=\"y\", \n",
    "    font={'size': 14, 'color': 'darkblue'}\n",
    ")\n",
    "#Добавляем подпись с конверсией \n",
    "fig.add_annotation(\n",
    "    x=110, \n",
    "    y=\"Success\", \n",
    "    text=f\"{round(conv1*conv2*conv3*100,2)}%\",\n",
    "    showarrow=False,\n",
    "    xref=\"x\",  # Привязка к оси X данных (не к области графика)\n",
    "    yref=\"y\", \n",
    "    font={'size': 14, 'color': 'darkblue'}\n",
    ")\n",
    "\n",
    "fig.show()"
   ]
  }
 ],
 "metadata": {
  "kernelspec": {
   "display_name": "Python [conda env:base] *",
   "language": "python",
   "name": "conda-base-py"
  },
  "language_info": {
   "codemirror_mode": {
    "name": "ipython",
    "version": 3
   },
   "file_extension": ".py",
   "mimetype": "text/x-python",
   "name": "python",
   "nbconvert_exporter": "python",
   "pygments_lexer": "ipython3",
   "version": "3.12.7"
  }
 },
 "nbformat": 4,
 "nbformat_minor": 5
}
